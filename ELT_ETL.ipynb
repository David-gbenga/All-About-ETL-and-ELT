{
 "cells": [
  {
   "cell_type": "markdown",
   "id": "dffec21e",
   "metadata": {},
   "source": [
    "#### Theories of ETL & ELT\n",
    "##### Data Pipelines\n",
    "* For all intents and purposes, data pipelines are responsible for moving data from a source to a destination, and transforming it somewhere along the way. These data sources, or source systems, can be a variety of things such as CSV files, APIs, or databases. Once data is pulled from a source system, the goal is to transform this data and load it into a destination where it can be used for things like business intelligence, machine learning, or AI\n",
    "\n",
    "* There are different flavours or types of pipelines\n",
    " 1. ETL\n",
    " 2. ELT\n",
    "\n",
    " * ETL is short for extract, transform, and load. ETL pipelines first extract data, before transforming it and loading it to a destination. ETL is the most traditional data pipeline design pattern, and may pull from tabular or non-tabular data sources. Typically, ETL pipelines use tools like Python and libraries such as pandas to manipulate and transform data. \n",
    "\n",
    "* Basic Extract, Load and Transform functions are highlighted below "
   ]
  },
  {
   "cell_type": "code",
   "execution_count": 14,
   "id": "fa5088fc",
   "metadata": {},
   "outputs": [],
   "source": [
    "#pandas dependencies \n",
    "import pandas as pd"
   ]
  },
  {
   "cell_type": "code",
   "execution_count": 8,
   "id": "d5bcc455",
   "metadata": {},
   "outputs": [],
   "source": [
    "def extract(file_name):\n",
    "  import pandas as pd\n",
    "  # Read a CSV with a path stored using file_name into memory\n",
    "  return pd.read_csv(file_name)"
   ]
  },
  {
   "cell_type": "code",
   "execution_count": 7,
   "id": "8965807b",
   "metadata": {},
   "outputs": [],
   "source": [
    "#Load function\n",
    "#Write a function to load a dataframe to a csv file \n",
    "def load(dataframe, file_name):\n",
    "    dataframe.to_csv(file_name)\n",
    "    print(f'Successfully loaded data to {file_name}')"
   ]
  },
  {
   "cell_type": "code",
   "execution_count": 9,
   "id": "f7a55113",
   "metadata": {},
   "outputs": [],
   "source": [
    "# Transform the dataframe to only include  the columns industry_name and number_of_firms\n",
    "def transform(data_frame):\n",
    "  # Filter the data_frame to only incude a subset of columns\n",
    "  return data_frame.loc[:, [\"industry_name\", \"number_of_firms\"]]"
   ]
  },
  {
   "cell_type": "code",
   "execution_count": 12,
   "id": "0502f7f1",
   "metadata": {},
   "outputs": [],
   "source": [
    "#Combining all functions together to build a simple python pipeline\n",
    "def extract(file_name):\n",
    "  return pd.read_csv(file_name)\n",
    "\n",
    "def transform(data_frame):\n",
    "  return data_frame.loc[:, [\"industry_name\", \"number_of_firms\"]]\n",
    "\n",
    "def load(data_frame, file_name):\n",
    "  data_frame.to_csv(file_name)\n",
    "  \n",
    "extracted_data = extract(file_name=\"test_file.csv\")\n",
    "transformed_data = transform(data_frame=extracted_data)\n",
    "\n",
    "# Pass the transformed_data DataFrame to the load() function\n",
    "load(data_frame=transformed_data, file_name=\"number_of_firms.csv\")"
   ]
  },
  {
   "cell_type": "code",
   "execution_count": 13,
   "id": "61784a1c",
   "metadata": {},
   "outputs": [
    {
     "data": {
      "text/html": [
       "<div>\n",
       "<style scoped>\n",
       "    .dataframe tbody tr th:only-of-type {\n",
       "        vertical-align: middle;\n",
       "    }\n",
       "\n",
       "    .dataframe tbody tr th {\n",
       "        vertical-align: top;\n",
       "    }\n",
       "\n",
       "    .dataframe thead th {\n",
       "        text-align: right;\n",
       "    }\n",
       "</style>\n",
       "<table border=\"1\" class=\"dataframe\">\n",
       "  <thead>\n",
       "    <tr style=\"text-align: right;\">\n",
       "      <th></th>\n",
       "      <th>industry_name</th>\n",
       "      <th>number_of_firms</th>\n",
       "    </tr>\n",
       "  </thead>\n",
       "  <tbody>\n",
       "    <tr>\n",
       "      <th>0</th>\n",
       "      <td>Finance</td>\n",
       "      <td>92</td>\n",
       "    </tr>\n",
       "    <tr>\n",
       "      <th>1</th>\n",
       "      <td>Healthcare</td>\n",
       "      <td>208</td>\n",
       "    </tr>\n",
       "    <tr>\n",
       "      <th>2</th>\n",
       "      <td>Retail</td>\n",
       "      <td>403</td>\n",
       "    </tr>\n",
       "    <tr>\n",
       "      <th>3</th>\n",
       "      <td>Manufacturing</td>\n",
       "      <td>341</td>\n",
       "    </tr>\n",
       "    <tr>\n",
       "      <th>4</th>\n",
       "      <td>Technology</td>\n",
       "      <td>196</td>\n",
       "    </tr>\n",
       "  </tbody>\n",
       "</table>\n",
       "</div>"
      ],
      "text/plain": [
       "   industry_name  number_of_firms\n",
       "0        Finance               92\n",
       "1     Healthcare              208\n",
       "2         Retail              403\n",
       "3  Manufacturing              341\n",
       "4     Technology              196"
      ]
     },
     "execution_count": 13,
     "metadata": {},
     "output_type": "execute_result"
    }
   ],
   "source": [
    "transformed_data.head(5)"
   ]
  },
  {
   "cell_type": "markdown",
   "id": "bfc6bd36",
   "metadata": {},
   "source": []
  }
 ],
 "metadata": {
  "kernelspec": {
   "display_name": "base",
   "language": "python",
   "name": "python3"
  },
  "language_info": {
   "codemirror_mode": {
    "name": "ipython",
    "version": 3
   },
   "file_extension": ".py",
   "mimetype": "text/x-python",
   "name": "python",
   "nbconvert_exporter": "python",
   "pygments_lexer": "ipython3",
   "version": "3.12.7"
  }
 },
 "nbformat": 4,
 "nbformat_minor": 5
}
