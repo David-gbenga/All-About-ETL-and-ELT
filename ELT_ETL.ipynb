{
 "cells": [
  {
   "cell_type": "markdown",
   "id": "dffec21e",
   "metadata": {},
   "source": [
    "#### Theories of ETL & ELT\n",
    "* Basic Extract, Load and Transform functions "
   ]
  },
  {
   "cell_type": "code",
   "execution_count": 2,
   "id": "8965807b",
   "metadata": {},
   "outputs": [],
   "source": [
    "#Load function\n",
    "#Write a function to load a dataframe to a csv file \n",
    "def load(dataframe, file_name):\n",
    "    dataframe.to_csv(file_name)\n",
    "    print(f'Successfully loaded data to {file_name}')"
   ]
  },
  {
   "cell_type": "code",
   "execution_count": null,
   "id": "26141110",
   "metadata": {},
   "outputs": [],
   "source": []
  },
  {
   "cell_type": "markdown",
   "id": "bfc6bd36",
   "metadata": {},
   "source": []
  }
 ],
 "metadata": {
  "kernelspec": {
   "display_name": "base",
   "language": "python",
   "name": "python3"
  },
  "language_info": {
   "codemirror_mode": {
    "name": "ipython",
    "version": 3
   },
   "file_extension": ".py",
   "mimetype": "text/x-python",
   "name": "python",
   "nbconvert_exporter": "python",
   "pygments_lexer": "ipython3",
   "version": "3.12.7"
  }
 },
 "nbformat": 4,
 "nbformat_minor": 5
}
